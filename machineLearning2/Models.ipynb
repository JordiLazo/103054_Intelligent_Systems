{
 "cells": [
  {
   "cell_type": "markdown",
   "id": "a9f7b22f-66a5-4a2c-a1b5-60b2103a5a31",
   "metadata": {},
   "source": [
    "# Supervised learning models"
   ]
  },
  {
   "cell_type": "markdown",
   "id": "a099b867-bd2c-4268-a055-c3768de2570b",
   "metadata": {},
   "source": [
    "## Linear classification: SGDClassifier"
   ]
  },
  {
   "cell_type": "code",
   "execution_count": 4,
   "id": "0fbacf9f-84d8-4a55-9661-dcdb46c344c9",
   "metadata": {},
   "outputs": [],
   "source": [
    "from sklearn.datasets import load_iris\n",
    "from sklearn.model_selection import train_test_split\n",
    "from sklearn.preprocessing import StandardScaler\n",
    "from sklearn.linear_model import SGDClassifier\n",
    "\n",
    "iris = load_iris()\n",
    "\n",
    "X_train, X_test, y_train, y_test = train_test_split(\n",
    "    iris.data, iris.target, test_size=0.25, random_state=0)\n",
    "\n",
    "scaler = StandardScaler()\n",
    "X_train = scaler.fit_transform(X_train)\n",
    "X_test = scaler.transform(X_test)\n",
    "\n",
    "# [...] Train the model, get the scores for training and test"
   ]
  },
  {
   "cell_type": "markdown",
   "id": "28538085-9c21-4bce-a792-96a75fe1c602",
   "metadata": {},
   "source": [
    "## Support Vector Machine"
   ]
  },
  {
   "cell_type": "code",
   "execution_count": 3,
   "id": "ca6e1c3b-5263-4f31-8a01-cc66926d7026",
   "metadata": {},
   "outputs": [],
   "source": [
    "from sklearn.datasets import fetch_olivetti_faces\n",
    "from sklearn.model_selection import train_test_split\n",
    "from sklearn.svm import SVC\n",
    "\n",
    "faces = fetch_olivetti_faces()\n",
    "\n",
    "X_train, X_test, y_train, y_test = train_test_split(\n",
    "    faces.data, faces.target, test_size=0.25, random_state=0)\n",
    "\n",
    "# [...] Train the model, get the scores for training and test"
   ]
  },
  {
   "cell_type": "markdown",
   "id": "0747f294-aa71-4a24-80a1-257ffd853cfc",
   "metadata": {},
   "source": [
    "## Naive Bayes"
   ]
  },
  {
   "cell_type": "code",
   "execution_count": 5,
   "id": "a3eb9c3b-04bf-4d0a-97dd-7f60c2fcae1b",
   "metadata": {},
   "outputs": [],
   "source": [
    "from sklearn.datasets import fetch_20newsgroups\n",
    "from sklearn.model_selection import train_test_split\n",
    "from sklearn.feature_extraction.text import TfidfVectorizer, HashingVectorizer, CountVectorizer\n",
    "from sklearn.naive_bayes import MultinomialNB\n",
    "\n",
    "news = fetch_20newsgroups(subset=\"all\")\n",
    "X_train, X_test, y_train, y_test = train_test_split(\n",
    "    news.data, news.target, test_size=0.25, random_state=0)\n",
    "\n",
    "# A vectorizer converts a sequence of words into a numeric vector\n",
    "vectorizer = TfidfVectorizer()\n",
    "X_train = vectorizer.fit_transform(X_train)\n",
    "X_test = vectorizer.transform(X_test)\n",
    "\n",
    "# [...] Train the model, get the scores for training and test\n",
    "# Try to change the vectorizer"
   ]
  },
  {
   "cell_type": "markdown",
   "id": "e7fdc148-11b9-4d14-8743-7b86495e81b0",
   "metadata": {},
   "source": [
    "## Decision Trees\n",
    "(See the preprocessing notebook)"
   ]
  },
  {
   "cell_type": "markdown",
   "id": "74a134b0-f77d-4e2d-88f1-1b340584f8dd",
   "metadata": {},
   "source": [
    "## Random Forests"
   ]
  },
  {
   "cell_type": "code",
   "execution_count": null,
   "id": "9fdfa34a-b609-4f89-9c75-33f7f7e39444",
   "metadata": {},
   "outputs": [],
   "source": [
    "from sklearn.datasets import load_iris\n",
    "from sklearn.model_selection import train_test_split\n",
    "from sklearn.preprocessing import StandardScaler\n",
    "from sklearn.ensemble import RandokmForestClassifier\n",
    "\n",
    "iris = load_iris()\n",
    "\n",
    "X_train, X_test, y_train, y_test = train_test_split(\n",
    "    iris.data, iris.target, test_size=0.25, random_state=0)\n",
    "\n",
    "scaler = StandardScaler()\n",
    "X_train = scaler.fit_transform(X_train)\n",
    "X_test = scaler.transform(X_test)\n",
    "\n",
    "# [...] Train the model, get the scores for training and test"
   ]
  },
  {
   "cell_type": "markdown",
   "id": "1ace5637-b22c-44d7-856f-d0a20cb09c89",
   "metadata": {},
   "source": [
    "# Unsupervised learning models"
   ]
  },
  {
   "cell_type": "markdown",
   "id": "5e95e434-dfe3-4e21-9e09-6cc04d36a111",
   "metadata": {},
   "source": [
    "## Clustering with K-means"
   ]
  },
  {
   "cell_type": "code",
   "execution_count": null,
   "id": "5da1c396-083f-4cc9-b159-5eac8165b227",
   "metadata": {},
   "outputs": [],
   "source": [
    "from sklearn.datasets import load_digits\n",
    "from sklearn.preprocessing import scale\n",
    "from sklearn.cluster import KMeans\n",
    "\n",
    "digits = load_digits()\n",
    "data = scale(digits.data)\n",
    "\n",
    "# [...] Train the model, get the scores\n",
    "# In this case, we only have the score for all the data, and we evaluate the\n",
    "# model based on distances from each point to the centroid.\n"
   ]
  }
 ],
 "metadata": {
  "kernelspec": {
   "display_name": "Python 3 (ipykernel)",
   "language": "python",
   "name": "python3"
  },
  "language_info": {
   "codemirror_mode": {
    "name": "ipython",
    "version": 3
   },
   "file_extension": ".py",
   "mimetype": "text/x-python",
   "name": "python",
   "nbconvert_exporter": "python",
   "pygments_lexer": "ipython3",
   "version": "3.6.5"
  }
 },
 "nbformat": 4,
 "nbformat_minor": 5
}
